{
 "cells": [
  {
   "cell_type": "markdown",
   "id": "f715146d",
   "metadata": {},
   "source": [
    "# CAPSTONE PROJECT 2 - PYTHON PROGRAMME FOR SIP CALCULATOR"
   ]
  },
  {
   "cell_type": "code",
   "execution_count": null,
   "id": "33d1382b",
   "metadata": {},
   "outputs": [],
   "source": [
    "# This Programme for checking future expected return on SIP investment "
   ]
  },
  {
   "cell_type": "code",
   "execution_count": 28,
   "id": "7d1c102c",
   "metadata": {},
   "outputs": [
    {
     "name": "stdout",
     "output_type": "stream",
     "text": [
      "****** Welcome to Anees Capital's SIP Calculator *********\n",
      "\n",
      "Enter the monthly SIP amount Rs: 10000\n",
      "Enter the yearly rate of return (%): 10\n",
      "Enter the number of years: 15\n",
      "The expected amount you will get is Rs: 4179243\n",
      "Do you want to check again?  (yes/no)yes\n",
      "****** Welcome to Anees Capital's SIP Calculator *********\n",
      "\n",
      "Enter the monthly SIP amount Rs: 10000\n",
      "Enter the yearly rate of return (%): 8\n",
      "Enter the number of years: 15\n",
      "The expected amount you will get is Rs: 3483451\n",
      "Do you want to check again?  (yes/no)yes\n",
      "****** Welcome to Anees Capital's SIP Calculator *********\n",
      "\n",
      "Enter the monthly SIP amount Rs: 10000\n",
      "Enter the yearly rate of return (%): 6\n",
      "Enter the number of years: 15\n",
      "The expected amount you will get is Rs: 2922728\n",
      "Do you want to check again?  (yes/no)no\n",
      "Thanks for using our service\n"
     ]
    }
   ],
   "source": [
    "command = True \n",
    "while command == True:\n",
    "\n",
    "    print(\"****** Welcome to Anees Capital's SIP Calculator *********\")\n",
    "    print()\n",
    "\n",
    "#Input creation for User\n",
    "    A = float(input(\"Enter the monthly SIP amount Rs: \"))\n",
    "    YR = float(input(\"Enter the yearly rate of return (%): \"))\n",
    "    Y = int(input(\"Enter the number of years: \"))\n",
    "\n",
    "\n",
    "# Obtain Monthly Rate from yearly rate\n",
    "    MR = YR/12/100\n",
    "    M = Y * 12\n",
    "\n",
    "#Converting all input values using formula = FV = P [(1+i)^n-1]*(1+i) / I\n",
    "    FV = A * ((((1 + MR)**(M))-1) * (1 + MR))/MR\n",
    "    FV = round(FV)\n",
    "    print(\"The expected amount you will get is Rs:\",FV)\n",
    "\n",
    "#To Rerun the programme    \n",
    "    command = (input(\"Do you want to check again?  (yes/no)\"))\n",
    "    if  command == \"yes\":\n",
    "        command = True\n",
    "    else:\n",
    "        command== \"no\"\n",
    "        print (\"Thanks for using our service\")\n",
    "        "
   ]
  },
  {
   "cell_type": "code",
   "execution_count": null,
   "id": "93118981",
   "metadata": {},
   "outputs": [],
   "source": []
  },
  {
   "cell_type": "code",
   "execution_count": null,
   "id": "3b20fa4e",
   "metadata": {},
   "outputs": [],
   "source": []
  },
  {
   "cell_type": "code",
   "execution_count": null,
   "id": "b8d176ee",
   "metadata": {},
   "outputs": [],
   "source": [
    "\n"
   ]
  },
  {
   "cell_type": "code",
   "execution_count": null,
   "id": "d983e37d",
   "metadata": {},
   "outputs": [],
   "source": [
    "\n"
   ]
  },
  {
   "cell_type": "code",
   "execution_count": null,
   "id": "2ae8bc90",
   "metadata": {},
   "outputs": [],
   "source": []
  },
  {
   "cell_type": "code",
   "execution_count": null,
   "id": "a0543c49",
   "metadata": {},
   "outputs": [],
   "source": []
  }
 ],
 "metadata": {
  "kernelspec": {
   "display_name": "Python 3 (ipykernel)",
   "language": "python",
   "name": "python3"
  },
  "language_info": {
   "codemirror_mode": {
    "name": "ipython",
    "version": 3
   },
   "file_extension": ".py",
   "mimetype": "text/x-python",
   "name": "python",
   "nbconvert_exporter": "python",
   "pygments_lexer": "ipython3",
   "version": "3.9.7"
  }
 },
 "nbformat": 4,
 "nbformat_minor": 5
}
